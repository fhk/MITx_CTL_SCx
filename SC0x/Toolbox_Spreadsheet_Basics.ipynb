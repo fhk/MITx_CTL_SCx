{
 "cells": [
  {
   "cell_type": "markdown",
   "metadata": {},
   "source": [
    "# Toolbox: Spreadsheet basics\n",
    "\n",
    "How to run some basic excel functionality on some data. Rather than excel lets used Python and Pandas.\n",
    "\n",
    "## Step 1: Download the data"
   ]
  },
  {
   "cell_type": "code",
   "execution_count": 6,
   "metadata": {},
   "outputs": [
    {
     "name": "stdout",
     "output_type": "stream",
     "text": [
      "--2020-04-23 20:58:11--  https://courses.edx.org/assets/courseware/v1/0b87a0928d97dd0daf060f464d079fe0/asset-v1:MITx+CTL.SC0x+1T2020a+type@asset+block/SC0x_M1Toolbox_sample1.xlsx\n",
      "Resolving courses.edx.org (courses.edx.org)... 107.23.242.160, 54.209.244.105, 54.85.51.136\n",
      "Connecting to courses.edx.org (courses.edx.org)|107.23.242.160|:443... connected.\n",
      "HTTP request sent, awaiting response... 200 OK\n",
      "Length: 39432 (39K) [application/vnd.openxmlformats-officedocument.spreadsheetml.sheet]\n",
      "Saving to: ‘./data/SC0x_M1Toolbox_sample1.xlsx’\n",
      "\n",
      "./data/SC0x_M1Toolb 100%[===================>]  38.51K  --.-KB/s    in 0.04s   \n",
      "\n",
      "2020-04-23 20:58:11 (899 KB/s) - ‘./data/SC0x_M1Toolbox_sample1.xlsx’ saved [39432/39432]\n",
      "\n"
     ]
    }
   ],
   "source": [
    "!wget https://courses.edx.org/assets/courseware/v1/0b87a0928d97dd0daf060f464d079fe0/asset-v1:MITx+CTL.SC0x+1T2020a+type@asset+block/SC0x_M1Toolbox_sample1.xlsx -O ./data/SC0x_M1Toolbox_sample1.xlsx"
   ]
  },
  {
   "cell_type": "markdown",
   "metadata": {},
   "source": [
    "## Step 2: Load the data"
   ]
  },
  {
   "cell_type": "code",
   "execution_count": 69,
   "metadata": {},
   "outputs": [
    {
     "data": {
      "text/html": [
       "<div>\n",
       "<style scoped>\n",
       "    .dataframe tbody tr th:only-of-type {\n",
       "        vertical-align: middle;\n",
       "    }\n",
       "\n",
       "    .dataframe tbody tr th {\n",
       "        vertical-align: top;\n",
       "    }\n",
       "\n",
       "    .dataframe thead th {\n",
       "        text-align: right;\n",
       "    }\n",
       "</style>\n",
       "<table border=\"1\" class=\"dataframe\">\n",
       "  <thead>\n",
       "    <tr style=\"text-align: right;\">\n",
       "      <th></th>\n",
       "      <th>Item ID</th>\n",
       "      <th>Weight (lb)</th>\n",
       "      <th>Quantity</th>\n",
       "      <th>Cost</th>\n",
       "    </tr>\n",
       "  </thead>\n",
       "  <tbody>\n",
       "    <tr>\n",
       "      <th>0</th>\n",
       "      <td>AAA</td>\n",
       "      <td>2.3</td>\n",
       "      <td>120</td>\n",
       "      <td>4.043192</td>\n",
       "    </tr>\n",
       "    <tr>\n",
       "      <th>1</th>\n",
       "      <td>BBB</td>\n",
       "      <td>1.5</td>\n",
       "      <td>175</td>\n",
       "      <td>22.989911</td>\n",
       "    </tr>\n",
       "    <tr>\n",
       "      <th>2</th>\n",
       "      <td>CCC</td>\n",
       "      <td>0.7</td>\n",
       "      <td>2546</td>\n",
       "      <td>7.156121</td>\n",
       "    </tr>\n",
       "    <tr>\n",
       "      <th>3</th>\n",
       "      <td>DDD</td>\n",
       "      <td>1.1</td>\n",
       "      <td>24</td>\n",
       "      <td>16.704245</td>\n",
       "    </tr>\n",
       "    <tr>\n",
       "      <th>4</th>\n",
       "      <td>EEE</td>\n",
       "      <td>6.5</td>\n",
       "      <td>4567</td>\n",
       "      <td>10.382441</td>\n",
       "    </tr>\n",
       "    <tr>\n",
       "      <th>5</th>\n",
       "      <td>FFF</td>\n",
       "      <td>2.0</td>\n",
       "      <td>35</td>\n",
       "      <td>16.631646</td>\n",
       "    </tr>\n",
       "    <tr>\n",
       "      <th>6</th>\n",
       "      <td>GGG</td>\n",
       "      <td>8.2</td>\n",
       "      <td>145</td>\n",
       "      <td>18.068460</td>\n",
       "    </tr>\n",
       "    <tr>\n",
       "      <th>7</th>\n",
       "      <td>HHH</td>\n",
       "      <td>2.7</td>\n",
       "      <td>208</td>\n",
       "      <td>12.699011</td>\n",
       "    </tr>\n",
       "    <tr>\n",
       "      <th>8</th>\n",
       "      <td>III</td>\n",
       "      <td>7.1</td>\n",
       "      <td>95</td>\n",
       "      <td>23.191546</td>\n",
       "    </tr>\n",
       "    <tr>\n",
       "      <th>9</th>\n",
       "      <td>JJJ</td>\n",
       "      <td>0.4</td>\n",
       "      <td>350</td>\n",
       "      <td>7.027413</td>\n",
       "    </tr>\n",
       "  </tbody>\n",
       "</table>\n",
       "</div>"
      ],
      "text/plain": [
       "  Item ID  Weight (lb)  Quantity       Cost\n",
       "0     AAA          2.3       120   4.043192\n",
       "1     BBB          1.5       175  22.989911\n",
       "2     CCC          0.7      2546   7.156121\n",
       "3     DDD          1.1        24  16.704245\n",
       "4     EEE          6.5      4567  10.382441\n",
       "5     FFF          2.0        35  16.631646\n",
       "6     GGG          8.2       145  18.068460\n",
       "7     HHH          2.7       208  12.699011\n",
       "8     III          7.1        95  23.191546\n",
       "9     JJJ          0.4       350   7.027413"
      ]
     },
     "execution_count": 69,
     "metadata": {},
     "output_type": "execute_result"
    }
   ],
   "source": [
    "import pandas as pd\n",
    "import numpy as np\n",
    "sample = pd.read_excel(\"./data/SC0x_M1Toolbox_sample1.xlsx\").fillna(np.nan)\n",
    "sample"
   ]
  },
  {
   "cell_type": "markdown",
   "metadata": {},
   "source": [
    "## Step 3: Select a cell"
   ]
  },
  {
   "cell_type": "code",
   "execution_count": 70,
   "metadata": {},
   "outputs": [
    {
     "data": {
      "text/plain": [
       "4567"
      ]
     },
     "execution_count": 70,
     "metadata": {},
     "output_type": "execute_result"
    }
   ],
   "source": [
    "sample[\"Quantity\"][4]"
   ]
  },
  {
   "cell_type": "markdown",
   "metadata": {},
   "source": [
    "## Step 4: Select a cell based on its value and get another columns"
   ]
  },
  {
   "cell_type": "code",
   "execution_count": 71,
   "metadata": {},
   "outputs": [
    {
     "data": {
      "text/plain": [
       "array([8.2])"
      ]
     },
     "execution_count": 71,
     "metadata": {},
     "output_type": "execute_result"
    }
   ],
   "source": [
    "sample['Weight (lb)'][sample['Item ID'] == \"GGG\"].values"
   ]
  },
  {
   "cell_type": "markdown",
   "metadata": {},
   "source": [
    "## Step 4: Find the most expensive item (max)\n",
    "\n",
    "Note we want to just find the cost of the most expensive item not its index."
   ]
  },
  {
   "cell_type": "code",
   "execution_count": 72,
   "metadata": {},
   "outputs": [
    {
     "data": {
      "text/plain": [
       "23.191545805293377"
      ]
     },
     "execution_count": 72,
     "metadata": {},
     "output_type": "execute_result"
    }
   ],
   "source": [
    "max(sample['Cost'])"
   ]
  },
  {
   "cell_type": "markdown",
   "metadata": {},
   "source": [
    "Or we can use the pandas inbuilt max"
   ]
  },
  {
   "cell_type": "code",
   "execution_count": 73,
   "metadata": {},
   "outputs": [
    {
     "data": {
      "text/plain": [
       "23.191545805293377"
      ]
     },
     "execution_count": 73,
     "metadata": {},
     "output_type": "execute_result"
    }
   ],
   "source": [
    "sample['Cost'].max()"
   ]
  },
  {
   "cell_type": "markdown",
   "metadata": {},
   "source": [
    "If we wanted to fnd the row/index we can do the following"
   ]
  },
  {
   "cell_type": "code",
   "execution_count": 74,
   "metadata": {},
   "outputs": [
    {
     "data": {
      "text/plain": [
       "Item ID            III\n",
       "Weight (lb)        7.1\n",
       "Quantity            95\n",
       "Cost           23.1915\n",
       "Name: 8, dtype: object"
      ]
     },
     "execution_count": 74,
     "metadata": {},
     "output_type": "execute_result"
    }
   ],
   "source": [
    "sample.iloc[sample['Cost'].idxmax()]"
   ]
  },
  {
   "cell_type": "markdown",
   "metadata": {},
   "source": [
    "# Step 5: Sum a column"
   ]
  },
  {
   "cell_type": "code",
   "execution_count": 75,
   "metadata": {},
   "outputs": [
    {
     "data": {
      "text/plain": [
       "8265"
      ]
     },
     "execution_count": 75,
     "metadata": {},
     "output_type": "execute_result"
    }
   ],
   "source": [
    "sample['Quantity'].sum()"
   ]
  },
  {
   "cell_type": "markdown",
   "metadata": {},
   "source": [
    "Round to two decimal places\n",
    "\n",
    "option 1: String formating"
   ]
  },
  {
   "cell_type": "code",
   "execution_count": 76,
   "metadata": {},
   "outputs": [
    {
     "data": {
      "text/plain": [
       "'138.89'"
      ]
     },
     "execution_count": 76,
     "metadata": {},
     "output_type": "execute_result"
    }
   ],
   "source": [
    "\"{t_cost:.{digits}f}\".format(t_cost=sample['Cost'].sum(), digits=2)"
   ]
  },
  {
   "cell_type": "markdown",
   "metadata": {},
   "source": [
    "option 2: pandas"
   ]
  },
  {
   "cell_type": "code",
   "execution_count": 77,
   "metadata": {},
   "outputs": [
    {
     "data": {
      "text/plain": [
       "138.89"
      ]
     },
     "execution_count": 77,
     "metadata": {},
     "output_type": "execute_result"
    }
   ],
   "source": [
    "sample['Cost'].sum().round(2)"
   ]
  },
  {
   "cell_type": "markdown",
   "metadata": {},
   "source": [
    "## Step 6: Calculate mean/average, median, standard deviation"
   ]
  },
  {
   "cell_type": "code",
   "execution_count": 80,
   "metadata": {},
   "outputs": [
    {
     "data": {
      "text/html": [
       "<div>\n",
       "<style scoped>\n",
       "    .dataframe tbody tr th:only-of-type {\n",
       "        vertical-align: middle;\n",
       "    }\n",
       "\n",
       "    .dataframe tbody tr th {\n",
       "        vertical-align: top;\n",
       "    }\n",
       "\n",
       "    .dataframe thead th {\n",
       "        text-align: right;\n",
       "    }\n",
       "</style>\n",
       "<table border=\"1\" class=\"dataframe\">\n",
       "  <thead>\n",
       "    <tr style=\"text-align: right;\">\n",
       "      <th></th>\n",
       "      <th>Weight (lb)</th>\n",
       "      <th>Quantity</th>\n",
       "      <th>Cost</th>\n",
       "    </tr>\n",
       "  </thead>\n",
       "  <tbody>\n",
       "    <tr>\n",
       "      <th>count</th>\n",
       "      <td>10.000000</td>\n",
       "      <td>10.000000</td>\n",
       "      <td>10.000000</td>\n",
       "    </tr>\n",
       "    <tr>\n",
       "      <th>mean</th>\n",
       "      <td>3.250000</td>\n",
       "      <td>826.500000</td>\n",
       "      <td>13.889399</td>\n",
       "    </tr>\n",
       "    <tr>\n",
       "      <th>std</th>\n",
       "      <td>2.886078</td>\n",
       "      <td>1518.450325</td>\n",
       "      <td>6.711057</td>\n",
       "    </tr>\n",
       "    <tr>\n",
       "      <th>min</th>\n",
       "      <td>0.400000</td>\n",
       "      <td>24.000000</td>\n",
       "      <td>4.043192</td>\n",
       "    </tr>\n",
       "    <tr>\n",
       "      <th>25%</th>\n",
       "      <td>1.200000</td>\n",
       "      <td>101.250000</td>\n",
       "      <td>7.962701</td>\n",
       "    </tr>\n",
       "    <tr>\n",
       "      <th>50%</th>\n",
       "      <td>2.150000</td>\n",
       "      <td>160.000000</td>\n",
       "      <td>14.665328</td>\n",
       "    </tr>\n",
       "    <tr>\n",
       "      <th>75%</th>\n",
       "      <td>5.550000</td>\n",
       "      <td>314.500000</td>\n",
       "      <td>17.727406</td>\n",
       "    </tr>\n",
       "    <tr>\n",
       "      <th>max</th>\n",
       "      <td>8.200000</td>\n",
       "      <td>4567.000000</td>\n",
       "      <td>23.191546</td>\n",
       "    </tr>\n",
       "  </tbody>\n",
       "</table>\n",
       "</div>"
      ],
      "text/plain": [
       "       Weight (lb)     Quantity       Cost\n",
       "count    10.000000    10.000000  10.000000\n",
       "mean      3.250000   826.500000  13.889399\n",
       "std       2.886078  1518.450325   6.711057\n",
       "min       0.400000    24.000000   4.043192\n",
       "25%       1.200000   101.250000   7.962701\n",
       "50%       2.150000   160.000000  14.665328\n",
       "75%       5.550000   314.500000  17.727406\n",
       "max       8.200000  4567.000000  23.191546"
      ]
     },
     "execution_count": 80,
     "metadata": {},
     "output_type": "execute_result"
    }
   ],
   "source": [
    "sample.describe()"
   ]
  },
  {
   "cell_type": "code",
   "execution_count": 82,
   "metadata": {},
   "outputs": [
    {
     "data": {
      "text/plain": [
       "Weight (lb)      2.150000\n",
       "Quantity       160.000000\n",
       "Cost            14.665328\n",
       "dtype: float64"
      ]
     },
     "execution_count": 82,
     "metadata": {},
     "output_type": "execute_result"
    }
   ],
   "source": [
    "sample.median()"
   ]
  },
  {
   "cell_type": "markdown",
   "metadata": {},
   "source": [
    "# Step 7: Sum product, multiply column by a count/quantity"
   ]
  },
  {
   "cell_type": "code",
   "execution_count": 86,
   "metadata": {},
   "outputs": [
    {
     "data": {
      "text/plain": [
       "81051.63"
      ]
     },
     "execution_count": 86,
     "metadata": {},
     "output_type": "execute_result"
    }
   ],
   "source": [
    "(sample['Quantity'] * sample['Cost']).sum().round(2)"
   ]
  },
  {
   "cell_type": "markdown",
   "metadata": {},
   "source": [
    "Note: conditional sub queries. e.g. only count items which are above $10"
   ]
  },
  {
   "cell_type": "code",
   "execution_count": 93,
   "metadata": {},
   "outputs": [
    {
     "name": "stdout",
     "output_type": "stream",
     "text": [
      "  Item ID  Weight (lb)  Quantity       Cost\n",
      "1     BBB          1.5       175  22.989911\n",
      "3     DDD          1.1        24  16.704245\n",
      "4     EEE          6.5      4567  10.382441\n",
      "5     FFF          2.0        35  16.631646\n",
      "6     GGG          8.2       145  18.068460\n",
      "7     HHH          2.7       208  12.699011\n",
      "8     III          7.1        95  23.191546\n"
     ]
    },
    {
     "data": {
      "text/plain": [
       "5249"
      ]
     },
     "execution_count": 93,
     "metadata": {},
     "output_type": "execute_result"
    }
   ],
   "source": [
    "print(sample[sample['Cost'] > 10])\n",
    "(sample['Quantity'] * (sample['Cost'] > 10)).sum().round(2)"
   ]
  },
  {
   "cell_type": "markdown",
   "metadata": {},
   "source": [
    "## Step 8: New data set"
   ]
  },
  {
   "cell_type": "code",
   "execution_count": 90,
   "metadata": {},
   "outputs": [
    {
     "name": "stdout",
     "output_type": "stream",
     "text": [
      "--2020-04-23 21:44:00--  https://courses.edx.org/assets/courseware/v1/22fb63567f1b98c85073ad2619eb9be3/asset-v1:MITx+CTL.SC0x+1T2020a+type@asset+block/SC0x_M1Toolbox_sample2.xlsx\n",
      "Resolving courses.edx.org (courses.edx.org)... 54.85.51.136, 54.209.244.105, 107.23.242.160\n",
      "Connecting to courses.edx.org (courses.edx.org)|54.85.51.136|:443... connected.\n",
      "HTTP request sent, awaiting response... 200 OK\n",
      "Length: 39159 (38K) [application/vnd.openxmlformats-officedocument.spreadsheetml.sheet]\n",
      "Saving to: ‘./data/SC0x_M1Toolbox_sample2.xlsx’\n",
      "\n",
      "./data/SC0x_M1Toolb 100%[===================>]  38.24K  --.-KB/s    in 0.004s  \n",
      "\n",
      "2020-04-23 21:44:00 (10.2 MB/s) - ‘./data/SC0x_M1Toolbox_sample2.xlsx’ saved [39159/39159]\n",
      "\n"
     ]
    }
   ],
   "source": [
    "!wget https://courses.edx.org/assets/courseware/v1/22fb63567f1b98c85073ad2619eb9be3/asset-v1:MITx+CTL.SC0x+1T2020a+type@asset+block/SC0x_M1Toolbox_sample2.xlsx -O ./data/SC0x_M1Toolbox_sample2.xlsx"
   ]
  },
  {
   "cell_type": "code",
   "execution_count": 91,
   "metadata": {},
   "outputs": [
    {
     "data": {
      "text/html": [
       "<div>\n",
       "<style scoped>\n",
       "    .dataframe tbody tr th:only-of-type {\n",
       "        vertical-align: middle;\n",
       "    }\n",
       "\n",
       "    .dataframe tbody tr th {\n",
       "        vertical-align: top;\n",
       "    }\n",
       "\n",
       "    .dataframe thead th {\n",
       "        text-align: right;\n",
       "    }\n",
       "</style>\n",
       "<table border=\"1\" class=\"dataframe\">\n",
       "  <thead>\n",
       "    <tr style=\"text-align: right;\">\n",
       "      <th></th>\n",
       "      <th>SKU</th>\n",
       "      <th>Monthly Sales</th>\n",
       "      <th>Unit Cost</th>\n",
       "    </tr>\n",
       "  </thead>\n",
       "  <tbody>\n",
       "    <tr>\n",
       "      <th>0</th>\n",
       "      <td>69625</td>\n",
       "      <td>258</td>\n",
       "      <td>0.01</td>\n",
       "    </tr>\n",
       "    <tr>\n",
       "      <th>1</th>\n",
       "      <td>69626</td>\n",
       "      <td>320</td>\n",
       "      <td>1.87</td>\n",
       "    </tr>\n",
       "    <tr>\n",
       "      <th>2</th>\n",
       "      <td>69627</td>\n",
       "      <td>414</td>\n",
       "      <td>1.00</td>\n",
       "    </tr>\n",
       "    <tr>\n",
       "      <th>3</th>\n",
       "      <td>69628</td>\n",
       "      <td>1150</td>\n",
       "      <td>0.23</td>\n",
       "    </tr>\n",
       "    <tr>\n",
       "      <th>4</th>\n",
       "      <td>69629</td>\n",
       "      <td>314</td>\n",
       "      <td>0.23</td>\n",
       "    </tr>\n",
       "    <tr>\n",
       "      <th>...</th>\n",
       "      <td>...</td>\n",
       "      <td>...</td>\n",
       "      <td>...</td>\n",
       "    </tr>\n",
       "    <tr>\n",
       "      <th>95</th>\n",
       "      <td>69720</td>\n",
       "      <td>278</td>\n",
       "      <td>1.30</td>\n",
       "    </tr>\n",
       "    <tr>\n",
       "      <th>96</th>\n",
       "      <td>69721</td>\n",
       "      <td>1059</td>\n",
       "      <td>0.03</td>\n",
       "    </tr>\n",
       "    <tr>\n",
       "      <th>97</th>\n",
       "      <td>69722</td>\n",
       "      <td>669</td>\n",
       "      <td>0.03</td>\n",
       "    </tr>\n",
       "    <tr>\n",
       "      <th>98</th>\n",
       "      <td>69723</td>\n",
       "      <td>477</td>\n",
       "      <td>0.20</td>\n",
       "    </tr>\n",
       "    <tr>\n",
       "      <th>99</th>\n",
       "      <td>69724</td>\n",
       "      <td>242</td>\n",
       "      <td>0.67</td>\n",
       "    </tr>\n",
       "  </tbody>\n",
       "</table>\n",
       "<p>100 rows × 3 columns</p>\n",
       "</div>"
      ],
      "text/plain": [
       "      SKU  Monthly Sales  Unit Cost\n",
       "0   69625            258       0.01\n",
       "1   69626            320       1.87\n",
       "2   69627            414       1.00\n",
       "3   69628           1150       0.23\n",
       "4   69629            314       0.23\n",
       "..    ...            ...        ...\n",
       "95  69720            278       1.30\n",
       "96  69721           1059       0.03\n",
       "97  69722            669       0.03\n",
       "98  69723            477       0.20\n",
       "99  69724            242       0.67\n",
       "\n",
       "[100 rows x 3 columns]"
      ]
     },
     "execution_count": 91,
     "metadata": {},
     "output_type": "execute_result"
    }
   ],
   "source": [
    "sample2 = pd.read_excel(\"./data/SC0x_M1Toolbox_sample2.xlsx\").fillna(np.nan)\n",
    "sample2"
   ]
  },
  {
   "cell_type": "code",
   "execution_count": 94,
   "metadata": {},
   "outputs": [
    {
     "data": {
      "text/html": [
       "<div>\n",
       "<style scoped>\n",
       "    .dataframe tbody tr th:only-of-type {\n",
       "        vertical-align: middle;\n",
       "    }\n",
       "\n",
       "    .dataframe tbody tr th {\n",
       "        vertical-align: top;\n",
       "    }\n",
       "\n",
       "    .dataframe thead th {\n",
       "        text-align: right;\n",
       "    }\n",
       "</style>\n",
       "<table border=\"1\" class=\"dataframe\">\n",
       "  <thead>\n",
       "    <tr style=\"text-align: right;\">\n",
       "      <th></th>\n",
       "      <th>SKU</th>\n",
       "      <th>Monthly Sales</th>\n",
       "      <th>Unit Cost</th>\n",
       "    </tr>\n",
       "  </thead>\n",
       "  <tbody>\n",
       "    <tr>\n",
       "      <th>count</th>\n",
       "      <td>100.000000</td>\n",
       "      <td>100.000000</td>\n",
       "      <td>100.000000</td>\n",
       "    </tr>\n",
       "    <tr>\n",
       "      <th>mean</th>\n",
       "      <td>69674.500000</td>\n",
       "      <td>605.440000</td>\n",
       "      <td>0.541600</td>\n",
       "    </tr>\n",
       "    <tr>\n",
       "      <th>std</th>\n",
       "      <td>29.011492</td>\n",
       "      <td>549.227397</td>\n",
       "      <td>1.255764</td>\n",
       "    </tr>\n",
       "    <tr>\n",
       "      <th>min</th>\n",
       "      <td>69625.000000</td>\n",
       "      <td>221.000000</td>\n",
       "      <td>0.000000</td>\n",
       "    </tr>\n",
       "    <tr>\n",
       "      <th>25%</th>\n",
       "      <td>69649.750000</td>\n",
       "      <td>276.250000</td>\n",
       "      <td>0.060000</td>\n",
       "    </tr>\n",
       "    <tr>\n",
       "      <th>50%</th>\n",
       "      <td>69674.500000</td>\n",
       "      <td>377.500000</td>\n",
       "      <td>0.140000</td>\n",
       "    </tr>\n",
       "    <tr>\n",
       "      <th>75%</th>\n",
       "      <td>69699.250000</td>\n",
       "      <td>654.750000</td>\n",
       "      <td>0.462500</td>\n",
       "    </tr>\n",
       "    <tr>\n",
       "      <th>max</th>\n",
       "      <td>69724.000000</td>\n",
       "      <td>3400.000000</td>\n",
       "      <td>6.910000</td>\n",
       "    </tr>\n",
       "  </tbody>\n",
       "</table>\n",
       "</div>"
      ],
      "text/plain": [
       "                SKU  Monthly Sales   Unit Cost\n",
       "count    100.000000     100.000000  100.000000\n",
       "mean   69674.500000     605.440000    0.541600\n",
       "std       29.011492     549.227397    1.255764\n",
       "min    69625.000000     221.000000    0.000000\n",
       "25%    69649.750000     276.250000    0.060000\n",
       "50%    69674.500000     377.500000    0.140000\n",
       "75%    69699.250000     654.750000    0.462500\n",
       "max    69724.000000    3400.000000    6.910000"
      ]
     },
     "execution_count": 94,
     "metadata": {},
     "output_type": "execute_result"
    }
   ],
   "source": [
    "sample2.describe()"
   ]
  },
  {
   "cell_type": "code",
   "execution_count": 95,
   "metadata": {},
   "outputs": [
    {
     "data": {
      "text/plain": [
       "SKU              69674.50\n",
       "Monthly Sales      377.50\n",
       "Unit Cost            0.14\n",
       "dtype: float64"
      ]
     },
     "execution_count": 95,
     "metadata": {},
     "output_type": "execute_result"
    }
   ],
   "source": [
    "sample2.median()"
   ]
  },
  {
   "cell_type": "markdown",
   "metadata": {},
   "source": [
    "## Step 9: Find a IQR"
   ]
  },
  {
   "cell_type": "code",
   "execution_count": 99,
   "metadata": {},
   "outputs": [
    {
     "data": {
      "text/plain": [
       "SKU               49.5000\n",
       "Monthly Sales    378.5000\n",
       "Unit Cost          0.4025\n",
       "dtype: float64"
      ]
     },
     "execution_count": 99,
     "metadata": {},
     "output_type": "execute_result"
    }
   ],
   "source": [
    "sample2.quantile(0.75) - sample2.quantile(0.25)"
   ]
  },
  {
   "cell_type": "markdown",
   "metadata": {},
   "source": [
    "## Step 10: Find CV"
   ]
  },
  {
   "cell_type": "code",
   "execution_count": 106,
   "metadata": {},
   "outputs": [
    {
     "data": {
      "text/plain": [
       "SKU              0.000416\n",
       "Monthly Sales    0.907154\n",
       "Unit Cost        2.318619\n",
       "dtype: float64"
      ]
     },
     "execution_count": 106,
     "metadata": {},
     "output_type": "execute_result"
    }
   ],
   "source": [
    "sample2.std() / sample2.mean()"
   ]
  },
  {
   "cell_type": "markdown",
   "metadata": {},
   "source": [
    "## Step 11: Count number of items based on criteria"
   ]
  },
  {
   "cell_type": "code",
   "execution_count": 113,
   "metadata": {},
   "outputs": [
    {
     "data": {
      "text/plain": [
       "11"
      ]
     },
     "execution_count": 113,
     "metadata": {},
     "output_type": "execute_result"
    }
   ],
   "source": [
    "(sample2['Unit Cost'] > 1).sum()"
   ]
  },
  {
   "cell_type": "markdown",
   "metadata": {},
   "source": [
    "Note: this woks because True evaluates to 1 and False evaluates to 0"
   ]
  },
  {
   "cell_type": "code",
   "execution_count": null,
   "metadata": {},
   "outputs": [],
   "source": []
  }
 ],
 "metadata": {
  "kernelspec": {
   "display_name": "Python 3",
   "language": "python",
   "name": "python3"
  },
  "language_info": {
   "codemirror_mode": {
    "name": "ipython",
    "version": 3
   },
   "file_extension": ".py",
   "mimetype": "text/x-python",
   "name": "python",
   "nbconvert_exporter": "python",
   "pygments_lexer": "ipython3",
   "version": "3.7.7"
  }
 },
 "nbformat": 4,
 "nbformat_minor": 4
}
